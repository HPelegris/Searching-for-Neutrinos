{
 "cells": [
  {
   "cell_type": "markdown",
   "id": "e836205f",
   "metadata": {},
   "source": [
    "~~~~ This notebook is part of Iraklis Pelegris Master Thesis \"Measurment of Atmospheric Neutrino Flux using Km3net/ARCA detector ~~~~"
   ]
  },
  {
   "cell_type": "markdown",
   "id": "c7c7d4a5",
   "metadata": {},
   "source": [
    "# ----- ARCA/Km3net Detector ------\n",
    "\n",
    "[ARCA/Km3net](https://www.km3net.org/research/physics/astronomy-with-arca/) detector gathers data using its optical modules.The ouput data file contains information for all interactions and events that were detected during ARCA's operational time. The key point about this file is that the events, which gave the recorded signal, are not labelled and so we are not able to tell which physical processes gave us that signal. "
   ]
  },
  {
   "cell_type": "markdown",
   "id": "0b97d5d6",
   "metadata": {},
   "source": [
    "### Early processing\n",
    "\n",
    "Early processing steps iclude removing \"standard noise\" like random detector's electronics noise or signal from radioactive \"sea salt\" decays like [Potassium's-40](https://en.wikipedia.org/wiki/Potassium-40).\n",
    "\n",
    "### Monte-Carlo data rebuilding \n",
    "\n",
    "After the data file is collected, Monte-Carlo simulations are conducted in order to accurately rebuild the data file. For example we assume that X [atmospheric neutrinos](https://neutrinos.fnal.gov/sources/atmospheric-neutrinos/), Y [Muons](https://www.energy.gov/science/doe-explainsmuons), and Z [Cosmic Neutrinos](https://neutrinos.fnal.gov/sources/cosmic-neutrinos/) of every flavor should have passed through our detector during its running time. This hypothesis comes with accurate predictions on each one of the particle's characteristics. Some of these characteristisc are its energy (later denoted as logTrueEn), the energy that the detector most likely would have assigned to the particle if the particle was detected (logRecoEn) and many more."
   ]
  },
  {
   "cell_type": "markdown",
   "id": "ff515430",
   "metadata": {},
   "source": [
    "# ------ Importing Monte-Carlo files ------\n",
    "\n",
    "We will start conducting our analysis by importing a file that discribes neutrinos that were detected and one that describes muons. The imported files are .root files and contain one or more [TTrees](https://root.cern.ch/doc/master/classTTree.html) (TTrees are dataframe-like obdjects) that hold the information we need. For this purpose we will use [uproot library](https://pypi.org/project/uproot/). We will start by uploading the file that holds information about neutrinos."
   ]
  },
  {
   "cell_type": "code",
   "execution_count": 1,
   "id": "2b45ed2c",
   "metadata": {},
   "outputs": [
    {
     "data": {
      "text/plain": [
       "{'ProcessedEvents_forBDT;53': 'TTree', 'ProcessedEvents_forBDT;52': 'TTree'}"
      ]
     },
     "execution_count": 1,
     "metadata": {},
     "output_type": "execute_result"
    }
   ],
   "source": [
    "import uproot\n",
    "\n",
    "# Reading using uproot.open and finding what I'm looking for\n",
    "ProcessedEvents_forBDT_a_nu_mu_CC = uproot.open(\"forBDT_a-nu_Mu_CC_All_ARCA21_v8.1_2RecoCut_bdt_branch.root\")\n",
    "ProcessedEvents_forBDT_a_nu_mu_CC.classnames()"
   ]
  },
  {
   "cell_type": "markdown",
   "id": "112e8b1d",
   "metadata": {},
   "source": [
    "We can see that two TTrees were obtained. The greater the number that accompanies it is, the more recent and updated the TTree is. So, from now on we will always pick the TTree that has the greater number assigned to it. Now lets see what 'ProcessedEvents_forBDT;53' TTree consists of."
   ]
  },
  {
   "cell_type": "code",
   "execution_count": 2,
   "id": "fb7823bc",
   "metadata": {},
   "outputs": [
    {
     "data": {
      "text/plain": [
       "['pseudo_runid',\n",
       " 'run_subNumber',\n",
       " 'pseudo_subRunid',\n",
       " 'pseudo_livetime',\n",
       " 'evt_id',\n",
       " 'evt_num',\n",
       " 'evt_overlays',\n",
       " 'reco_type',\n",
       " 'jbeta0',\n",
       " 'jbeta0_deg',\n",
       " 'D',\n",
       " 'D3d',\n",
       " 'cos_zen',\n",
       " 'fi',\n",
       " 'R',\n",
       " 'mean_tres_it',\n",
       " 'zenith',\n",
       " 'logEreco',\n",
       " 'Ereco',\n",
       " 'E_nu',\n",
       " 'logEreco2',\n",
       " 'logbeta0',\n",
       " 'jlik',\n",
       " 'GNhit',\n",
       " 'Snpe',\n",
       " 'SnpeT',\n",
       " 'Slen',\n",
       " 'Elen',\n",
       " 'best_trk_pos_x',\n",
       " 'best_trk_pos_y',\n",
       " 'best_trk_pos_z',\n",
       " 'best_trk_dir_x',\n",
       " 'best_trk_dir_y',\n",
       " 'best_trk_dir_z',\n",
       " 'Q1',\n",
       " 'Q1new',\n",
       " 'diffangle',\n",
       " 'delta_zenith',\n",
       " 'mu_pos_x',\n",
       " 'mu_pos_y',\n",
       " 'mu_pos_z',\n",
       " 'nu_pos_x',\n",
       " 'nu_pos_y',\n",
       " 'nu_pos_z',\n",
       " 'cos_zen_mu',\n",
       " 'zenith_mu',\n",
       " 'logE_mu',\n",
       " 'logE_nu',\n",
       " 'logEbundle',\n",
       " 'logEdepos',\n",
       " 'bjorken_y',\n",
       " 'cos_zen_nu',\n",
       " 'zenith_nu',\n",
       " 'w3atm',\n",
       " 'w3iceHESE',\n",
       " 'w3loi',\n",
       " 'w3random',\n",
       " 'w3ice',\n",
       " 'w3antares',\n",
       " 'w1',\n",
       " 'neutrino_type',\n",
       " 'Ntrack_all',\n",
       " 'Nallbehind',\n",
       " 'Nallbehind2',\n",
       " 'Nallbehind3',\n",
       " 'NtrackIT10',\n",
       " 'NtrackIT30',\n",
       " 'NtrackIT',\n",
       " 'NtrackEarly',\n",
       " 'NtrackLate',\n",
       " 'TrLengthIT',\n",
       " 'TrLengthIT_2',\n",
       " 'TrLengthIT_3',\n",
       " 'ratio130',\n",
       " 'ratio430',\n",
       " 'ratio330',\n",
       " 'ratio110',\n",
       " 'ratio410',\n",
       " 'ratio310',\n",
       " 'ratio1',\n",
       " 'ratio2',\n",
       " 'ratio3',\n",
       " 'ratio4',\n",
       " 'ratio5',\n",
       " 'ratio6',\n",
       " 'ratiol',\n",
       " 'ratiol_trig',\n",
       " 'ratio4_trig',\n",
       " 'myratio50_muon',\n",
       " 'myratio30_muon',\n",
       " 'myratio50_cascmuon',\n",
       " 'myratio30_cascmuon',\n",
       " 'myratio50_casc',\n",
       " 'myratio30_casc',\n",
       " 'myratio50_cascmuon_over_mu',\n",
       " 'myratio30_cascmuon_over_mu',\n",
       " 'myratio50_casc_over_mu',\n",
       " 'myratio30_casc_over_mu',\n",
       " 'redToT_cascmuon_over_mu',\n",
       " 'redToT_casc_over_mu',\n",
       " 'ratio_closehits_cascmuon_over_mu',\n",
       " 'ratio_closehits_casc_over_mu',\n",
       " 'diff_theta',\n",
       " 'ratio_closehits_muon',\n",
       " 'ratio_closehits_cascmuon',\n",
       " 'ratio_closehits_casc',\n",
       " 'redToT_muon',\n",
       " 'redToT_cascmuon',\n",
       " 'redToT_casc',\n",
       " 'diff_dist_mu',\n",
       " 'diff_dist_casc_mu',\n",
       " 'diff_dist_casc',\n",
       " 'max_lik_down',\n",
       " 'max_lik_up',\n",
       " 'costheta_min',\n",
       " 'costheta_max',\n",
       " 'num_of_good_sol',\n",
       " 'downsol',\n",
       " 'upsol',\n",
       " 'nhits_casc',\n",
       " 'nhits_casc_100',\n",
       " 'sum_ToT_casc',\n",
       " 'min_dist_casc',\n",
       " 'max_dist_casc',\n",
       " 'nhits_mu',\n",
       " 'nhits_mu_100',\n",
       " 'sum_ToT_mu',\n",
       " 'min_dist_mu',\n",
       " 'max_dist_mu',\n",
       " 'nhits_casc_mu',\n",
       " 'nhits_casc_mu_100',\n",
       " 'sum_ToT_casc_mu',\n",
       " 'min_dist_casc_mu',\n",
       " 'max_dist_casc_mu',\n",
       " 'min_diff_sollik',\n",
       " 'max_diff_sollik',\n",
       " 'min_diff_sol',\n",
       " 'max_diff_sol',\n",
       " 'min_zen_sol',\n",
       " 'max_zen_sol',\n",
       " 'diffangle_shower_nu',\n",
       " 'diffangle_shower_mu',\n",
       " 'delta_zenith_shower_mu',\n",
       " 'delta_zenith_shower_nu',\n",
       " 'zenith_shower',\n",
       " 'beta0_shower',\n",
       " 'beta0_shower_deg',\n",
       " 'lik_shower',\n",
       " 'Nhit_shower',\n",
       " 'best_trk_pos_shower_x',\n",
       " 'best_trk_pos_shower_y',\n",
       " 'best_trk_pos_shower_z',\n",
       " 'best_trk_dir_shower_x',\n",
       " 'best_trk_dir_shower_y',\n",
       " 'best_trk_dir_shower_z',\n",
       " 'Ereco_shower',\n",
       " 'Ereco_shower_corrected',\n",
       " 'logEreco_shower',\n",
       " 'dlik',\n",
       " 'normdlik',\n",
       " 'itoverlen',\n",
       " 'delta_zenith_track_shower',\n",
       " 'diffangle_track_shower',\n",
       " 'flag_muon_3D',\n",
       " 'flag_shower_3D',\n",
       " 'flag_shower_MX',\n",
       " 'ToT_border_mu',\n",
       " 'ToT_border_casc',\n",
       " 'ToT_border_cascmu',\n",
       " 'ToT_trig',\n",
       " 'max_ToT_trig',\n",
       " 'ToT_IT',\n",
       " 'ToT_allIT',\n",
       " 'Nborder_hits',\n",
       " 'Nborder_cherenkov_hits',\n",
       " 'Nborder_dtres_hits',\n",
       " 'Nborder_DOMs',\n",
       " 'Nhits_upper',\n",
       " 'Nhits_lower',\n",
       " 'Nhits_border_upper',\n",
       " 'Nhits_border_lower',\n",
       " 'Nhits_cherenkov_upper',\n",
       " 'Nhits_cherenkov_lower',\n",
       " 'Nhits_border_cherenkov_upper',\n",
       " 'Nhits_border_cherenkov_lower',\n",
       " 'NtrackIT50',\n",
       " 'NtrackIT50_2',\n",
       " 'NtrackIT30_2',\n",
       " 'NtrackIT10_2',\n",
       " 'NtrackIT50_3',\n",
       " 'NtrackIT30_3',\n",
       " 'NtrackIT10_3',\n",
       " 'float_num_triggered_hits',\n",
       " 'float_num_triggered_lines',\n",
       " 'float_num_triggered_doms',\n",
       " 'float_num_triggered_pmts',\n",
       " 'float_num_cherenkov_hits',\n",
       " 'float_num_cherenkov_lines',\n",
       " 'float_num_cherenkov_doms',\n",
       " 'float_num_cherenkov_pmts',\n",
       " 'float_num_cascade_hits',\n",
       " 'float_num_cascade_lines',\n",
       " 'float_num_cascade_doms',\n",
       " 'float_num_cascade_pmts',\n",
       " 'ratio_cherenkov_hits',\n",
       " 'ratio_cherenkov_lines',\n",
       " 'ratio_cherenkov_doms',\n",
       " 'ratio_cherenkov_pmts',\n",
       " 'ratio_cascade_hits',\n",
       " 'ratio_cascade_lines',\n",
       " 'ratio_cascade_doms',\n",
       " 'ratio_cascade_pmts',\n",
       " 'ratio_upper_nhits',\n",
       " 'ratio_lower_nhits',\n",
       " 'ratio_border_upper_nhits',\n",
       " 'ratio_border_lower_nhits',\n",
       " 'w_corr',\n",
       " 'bdt_score']"
      ]
     },
     "execution_count": 2,
     "metadata": {},
     "output_type": "execute_result"
    }
   ],
   "source": [
    "ProcessedEvents_forBDT53 = uproot.open(\"forBDT_a-nu_Mu_CC_All_ARCA21_v8.1_2RecoCut_bdt_branch.root:ProcessedEvents_forBDT;53\")\n",
    "ProcessedEvents_forBDT53.keys()"
   ]
  },
  {
   "cell_type": "markdown",
   "id": "e31c2392",
   "metadata": {},
   "source": [
    "All the above keys represent characteristics that describe each neutrino. You can also see that logTrueEn and logRecoEn that were described before are present in the above list. Now we will extract some of these variables as numpy arrays to conduct further analysis. The extracted variables are:\n",
    "\n",
    "- TrueEn: True energy that each particle has (measured in GeV).\n",
    "- logTrueEn: The power of ten that represents the TrueEn when written in exponential form.\n",
    "- RecoEn: The energy that the detector assigned to each particle according to its measuring capabilities.\n",
    "- logRecoEn: The power of ten that represents the RecoEn when written in exponential form.\n",
    "- bdt_score: Earlier processing involved classifying each particle according to its characteristics. So, a [TMVA Boosted Decision Tree (BDT)](https://root.cern.ch/doc/master/classTMVA_1_1MethodBDT.html) was used to attribute a BDT score to each event. The classifier was trained to recognise neutrinos as signals and muons as backround. BDT scores ranges from -1 to +1. A BDT score of -1 means that the particle is certainly part of the backround (and thus a muon) and a BDT score of +1 is certainly a neutrino."
   ]
  },
  {
   "cell_type": "code",
   "execution_count": 3,
   "id": "343d54d2",
   "metadata": {},
   "outputs": [],
   "source": [
    "import numpy as np\n",
    "\n",
    "# Exctracting as np arrays\n",
    "bdt_score_numuCC = ProcessedEvents_forBDT53['bdt_score'].array(library=\"np\")\n",
    "\n",
    "cosmic = ProcessedEvents_forBDT53['w3ice'].array(library=\"np\")\n",
    "atm = ProcessedEvents_forBDT53['w3atm'].array(library=\"np\")\n",
    "\n",
    "RecoEn_numuCC = ProcessedEvents_forBDT53['Ereco'].array(library=\"np\")\n",
    "logRecoEn_numuCC  = ProcessedEvents_forBDT53['logEreco'].array(library=\"np\")\n",
    "\n",
    "TrueEn_numuCC  = ProcessedEvents_forBDT53['E_nu'].array(library=\"np\")\n",
    "logTrueEn_numuCC  = ProcessedEvents_forBDT53['logE_nu'].array(library=\"np\")\n",
    "\n",
    "# _nu_mu_CC stands for NeUtrino of MUon flavor produced via Charged Current process"
   ]
  },
  {
   "cell_type": "markdown",
   "id": "c8946419",
   "metadata": {},
   "source": [
    "In the above snipset w3ice and w3atm variables were also obtained. That is because neutrinos are very weakly interacting with ordinary matter and thus are not easily detected. So, when producing the Monte-Carlo simulations, we assume that a very large number of neutrinos pass through our detector. Very few of the are eventually detected. W3ice represents the propabily of a cosmic neutrino of given characteristics to be found by our detector according to a given Cosmic Neutrino Flux. The same goes for w3atm but for Atmospheric Neutrinos. Finally, when building Monte-Carlo files, we assume that the detector is working 24/7 all year round. This is not true since the detectors undergoes many tests and updates limmiting its running time to only a few months per year. So, besides talking into account the previously mentioned weighting of each event we also have to rescale our data to the real running time of the detector. In this Notebook, we use data from ARCA-19 phase so we insert the corresponding given parameters for time scalling:"
   ]
  },
  {
   "cell_type": "code",
   "execution_count": 4,
   "id": "6a4f3d1c",
   "metadata": {},
   "outputs": [],
   "source": [
    "scale_to_live_muons_arca21 = 5825876.1 / 9817299.000\n",
    "scale_to_live_neutrinos_arca21 = 5825876.1"
   ]
  },
  {
   "cell_type": "markdown",
   "id": "f5afeda8",
   "metadata": {},
   "source": [
    "We continue by doing the same but for muons file."
   ]
  },
  {
   "cell_type": "code",
   "execution_count": 5,
   "id": "13a86a0f",
   "metadata": {},
   "outputs": [
    {
     "data": {
      "text/plain": [
       "['pseudo_runid',\n",
       " 'run_subNumber',\n",
       " 'pseudo_subRunid',\n",
       " 'pseudo_livetime',\n",
       " 'evt_id',\n",
       " 'evt_num',\n",
       " 'evt_overlays',\n",
       " 'reco_type',\n",
       " 'jbeta0',\n",
       " 'jbeta0_deg',\n",
       " 'D',\n",
       " 'D3d',\n",
       " 'cos_zen',\n",
       " 'fi',\n",
       " 'R',\n",
       " 'mean_tres_it',\n",
       " 'zenith',\n",
       " 'logEreco',\n",
       " 'Ereco',\n",
       " 'E_nu',\n",
       " 'logEreco2',\n",
       " 'logbeta0',\n",
       " 'jlik',\n",
       " 'GNhit',\n",
       " 'Snpe',\n",
       " 'SnpeT',\n",
       " 'Slen',\n",
       " 'Elen',\n",
       " 'best_trk_pos_x',\n",
       " 'best_trk_pos_y',\n",
       " 'best_trk_pos_z',\n",
       " 'best_trk_dir_x',\n",
       " 'best_trk_dir_y',\n",
       " 'best_trk_dir_z',\n",
       " 'Q1',\n",
       " 'Q1new',\n",
       " 'diffangle',\n",
       " 'delta_zenith',\n",
       " 'mu_pos_x',\n",
       " 'mu_pos_y',\n",
       " 'mu_pos_z',\n",
       " 'nu_pos_x',\n",
       " 'nu_pos_y',\n",
       " 'nu_pos_z',\n",
       " 'cos_zen_mu',\n",
       " 'zenith_mu',\n",
       " 'logE_mu',\n",
       " 'logE_nu',\n",
       " 'logEbundle',\n",
       " 'logEdepos',\n",
       " 'bjorken_y',\n",
       " 'cos_zen_nu',\n",
       " 'zenith_nu',\n",
       " 'w3atm',\n",
       " 'w3iceHESE',\n",
       " 'w3loi',\n",
       " 'w3random',\n",
       " 'w3ice',\n",
       " 'w3antares',\n",
       " 'w1',\n",
       " 'neutrino_type',\n",
       " 'Ntrack_all',\n",
       " 'Nallbehind',\n",
       " 'Nallbehind2',\n",
       " 'Nallbehind3',\n",
       " 'NtrackIT10',\n",
       " 'NtrackIT30',\n",
       " 'NtrackIT',\n",
       " 'NtrackEarly',\n",
       " 'NtrackLate',\n",
       " 'TrLengthIT',\n",
       " 'TrLengthIT_2',\n",
       " 'TrLengthIT_3',\n",
       " 'ratio130',\n",
       " 'ratio430',\n",
       " 'ratio330',\n",
       " 'ratio110',\n",
       " 'ratio410',\n",
       " 'ratio310',\n",
       " 'ratio1',\n",
       " 'ratio2',\n",
       " 'ratio3',\n",
       " 'ratio4',\n",
       " 'ratio5',\n",
       " 'ratio6',\n",
       " 'ratiol',\n",
       " 'ratiol_trig',\n",
       " 'ratio4_trig',\n",
       " 'myratio50_muon',\n",
       " 'myratio30_muon',\n",
       " 'myratio50_cascmuon',\n",
       " 'myratio30_cascmuon',\n",
       " 'myratio50_casc',\n",
       " 'myratio30_casc',\n",
       " 'myratio50_cascmuon_over_mu',\n",
       " 'myratio30_cascmuon_over_mu',\n",
       " 'myratio50_casc_over_mu',\n",
       " 'myratio30_casc_over_mu',\n",
       " 'redToT_cascmuon_over_mu',\n",
       " 'redToT_casc_over_mu',\n",
       " 'ratio_closehits_cascmuon_over_mu',\n",
       " 'ratio_closehits_casc_over_mu',\n",
       " 'diff_theta',\n",
       " 'ratio_closehits_muon',\n",
       " 'ratio_closehits_cascmuon',\n",
       " 'ratio_closehits_casc',\n",
       " 'redToT_muon',\n",
       " 'redToT_cascmuon',\n",
       " 'redToT_casc',\n",
       " 'diff_dist_mu',\n",
       " 'diff_dist_casc_mu',\n",
       " 'diff_dist_casc',\n",
       " 'max_lik_down',\n",
       " 'max_lik_up',\n",
       " 'costheta_min',\n",
       " 'costheta_max',\n",
       " 'num_of_good_sol',\n",
       " 'downsol',\n",
       " 'upsol',\n",
       " 'nhits_casc',\n",
       " 'nhits_casc_100',\n",
       " 'sum_ToT_casc',\n",
       " 'min_dist_casc',\n",
       " 'max_dist_casc',\n",
       " 'nhits_mu',\n",
       " 'nhits_mu_100',\n",
       " 'sum_ToT_mu',\n",
       " 'min_dist_mu',\n",
       " 'max_dist_mu',\n",
       " 'nhits_casc_mu',\n",
       " 'nhits_casc_mu_100',\n",
       " 'sum_ToT_casc_mu',\n",
       " 'min_dist_casc_mu',\n",
       " 'max_dist_casc_mu',\n",
       " 'min_diff_sollik',\n",
       " 'max_diff_sollik',\n",
       " 'min_diff_sol',\n",
       " 'max_diff_sol',\n",
       " 'min_zen_sol',\n",
       " 'max_zen_sol',\n",
       " 'diffangle_shower_nu',\n",
       " 'diffangle_shower_mu',\n",
       " 'delta_zenith_shower_mu',\n",
       " 'delta_zenith_shower_nu',\n",
       " 'zenith_shower',\n",
       " 'beta0_shower',\n",
       " 'beta0_shower_deg',\n",
       " 'lik_shower',\n",
       " 'Nhit_shower',\n",
       " 'best_trk_pos_shower_x',\n",
       " 'best_trk_pos_shower_y',\n",
       " 'best_trk_pos_shower_z',\n",
       " 'best_trk_dir_shower_x',\n",
       " 'best_trk_dir_shower_y',\n",
       " 'best_trk_dir_shower_z',\n",
       " 'Ereco_shower',\n",
       " 'Ereco_shower_corrected',\n",
       " 'logEreco_shower',\n",
       " 'dlik',\n",
       " 'normdlik',\n",
       " 'itoverlen',\n",
       " 'delta_zenith_track_shower',\n",
       " 'diffangle_track_shower',\n",
       " 'flag_muon_3D',\n",
       " 'flag_shower_3D',\n",
       " 'flag_shower_MX',\n",
       " 'ToT_border_mu',\n",
       " 'ToT_border_casc',\n",
       " 'ToT_border_cascmu',\n",
       " 'ToT_trig',\n",
       " 'max_ToT_trig',\n",
       " 'ToT_IT',\n",
       " 'ToT_allIT',\n",
       " 'Nborder_hits',\n",
       " 'Nborder_cherenkov_hits',\n",
       " 'Nborder_dtres_hits',\n",
       " 'Nborder_DOMs',\n",
       " 'Nhits_upper',\n",
       " 'Nhits_lower',\n",
       " 'Nhits_border_upper',\n",
       " 'Nhits_border_lower',\n",
       " 'Nhits_cherenkov_upper',\n",
       " 'Nhits_cherenkov_lower',\n",
       " 'Nhits_border_cherenkov_upper',\n",
       " 'Nhits_border_cherenkov_lower',\n",
       " 'NtrackIT50',\n",
       " 'NtrackIT50_2',\n",
       " 'NtrackIT30_2',\n",
       " 'NtrackIT10_2',\n",
       " 'NtrackIT50_3',\n",
       " 'NtrackIT30_3',\n",
       " 'NtrackIT10_3',\n",
       " 'float_num_triggered_hits',\n",
       " 'float_num_triggered_lines',\n",
       " 'float_num_triggered_doms',\n",
       " 'float_num_triggered_pmts',\n",
       " 'float_num_cherenkov_hits',\n",
       " 'float_num_cherenkov_lines',\n",
       " 'float_num_cherenkov_doms',\n",
       " 'float_num_cherenkov_pmts',\n",
       " 'float_num_cascade_hits',\n",
       " 'float_num_cascade_lines',\n",
       " 'float_num_cascade_doms',\n",
       " 'float_num_cascade_pmts',\n",
       " 'ratio_cherenkov_hits',\n",
       " 'ratio_cherenkov_lines',\n",
       " 'ratio_cherenkov_doms',\n",
       " 'ratio_cherenkov_pmts',\n",
       " 'ratio_cascade_hits',\n",
       " 'ratio_cascade_lines',\n",
       " 'ratio_cascade_doms',\n",
       " 'ratio_cascade_pmts',\n",
       " 'ratio_upper_nhits',\n",
       " 'ratio_lower_nhits',\n",
       " 'ratio_border_upper_nhits',\n",
       " 'ratio_border_lower_nhits',\n",
       " 'w_corr',\n",
       " 'bdt_score']"
      ]
     },
     "execution_count": 5,
     "metadata": {},
     "output_type": "execute_result"
    }
   ],
   "source": [
    "ProcessedEvents_forBDT_muons = uproot.open(\"forBDT_muons_All_ARCA21_v8.1_2RecoCut_bdt_branch.root:ProcessedEvents_forBDT\")\n",
    "ProcessedEvents_forBDT_muons.keys()"
   ]
  },
  {
   "cell_type": "code",
   "execution_count": 6,
   "id": "5309c44b",
   "metadata": {},
   "outputs": [],
   "source": [
    "bdt_score_muons = ProcessedEvents_forBDT_muons['bdt_score'].array(library=\"np\")"
   ]
  },
  {
   "cell_type": "markdown",
   "id": "87f26ae6",
   "metadata": {},
   "source": [
    "# ----- Efficiency -----"
   ]
  },
  {
   "cell_type": "markdown",
   "id": "ef5c326e",
   "metadata": {},
   "source": [
    "Lets start by cheking how many Cosmic Neutrinos, Atmospheric Neutrinos and Muons we have in our sample."
   ]
  },
  {
   "cell_type": "code",
   "execution_count": 7,
   "id": "311a6a03",
   "metadata": {},
   "outputs": [],
   "source": [
    "muons = 0\n",
    "\n",
    "for i in range(len(bdt_score_muons)):\n",
    "    \n",
    "    muons += 1 * scale_to_live_muons_arca21 "
   ]
  },
  {
   "cell_type": "code",
   "execution_count": 8,
   "id": "710a178f",
   "metadata": {},
   "outputs": [],
   "source": [
    "atm_neutrinos = 0\n",
    "cosmic_neutrinos = 0 \n",
    "\n",
    "for i in range(len(bdt_score_numuCC)):\n",
    "    \n",
    "    atm_neutrinos += 1 * scale_to_live_neutrinos_arca21 * atm[i]\n",
    "    cosmic_neutrinos += 1 * scale_to_live_neutrinos_arca21 * cosmic[i]"
   ]
  },
  {
   "cell_type": "code",
   "execution_count": 9,
   "id": "33c350e7",
   "metadata": {},
   "outputs": [
    {
     "name": "stdout",
     "output_type": "stream",
     "text": [
      "We have 631.6762803190627 Atmospheric Neutrinos, 5416.2322207670795 Muons and 5.53913870607804 Cosmic Neutrinos.\n"
     ]
    }
   ],
   "source": [
    "print(f\"We have {atm_neutrinos} Atmospheric Neutrinos, {muons} Muons and {cosmic_neutrinos} Cosmic Neutrinos.\")"
   ]
  },
  {
   "cell_type": "markdown",
   "id": "3a0d1b1d",
   "metadata": {},
   "source": [
    "We want to create a sample that consist mostly of atmospheric neutrinos in order to study them. For this perpuse we can define a Signal/Noise ratio. For us, Signal will be the Atmospheric neutrinos and Noise will be everything else."
   ]
  },
  {
   "cell_type": "code",
   "execution_count": 10,
   "id": "b5be6b84",
   "metadata": {},
   "outputs": [
    {
     "name": "stdout",
     "output_type": "stream",
     "text": [
      "Signal/Noise is: 0.11650736234300439.\n"
     ]
    }
   ],
   "source": [
    "signal_over_backround = atm_neutrinos / ( cosmic_neutrinos + muons )\n",
    "\n",
    "print(f\"Signal/Noise is: {signal_over_backround}.\")"
   ]
  },
  {
   "cell_type": "markdown",
   "id": "7d7c3c60",
   "metadata": {},
   "source": [
    "This ratio is not something that we can work with. We expected this outcome because, as we saw earlier, muons are ~ 5500 whereas Atmospheric Neutrinos are ~ 650. A way to obtain a purrer sample is to imply a BDT Score Cut. We said previously that all events are assigned a BDT Score and that the classifier assigns mostly negative scores to muons and mostly positives to neutrinos. This offcorse doent mean that our classifier is unmistacable."
   ]
  },
  {
   "cell_type": "markdown",
   "id": "05317d3c",
   "metadata": {},
   "source": [
    "We will now define Efficiency measure. Efficiency describes the percentage of the initial particle population that will still remain in our sample after we impliment a BDT Cut, which translates to, after we throw events with a smaller BDT Score than the selected one."
   ]
  },
  {
   "cell_type": "code",
   "execution_count": 11,
   "id": "71bafae1",
   "metadata": {},
   "outputs": [],
   "source": [
    "#Defining bin edges and number of bins\n",
    "bdt_score_bin_edges = np.arange(-1, 1.05, 0.05)\n",
    "number_of_bins = len(bdt_score_bin_edges)\n",
    "\n",
    "#Initializing arrays to store the counts of each bin\n",
    "atm_sum_per_cut = np.zeros(number_of_bins, dtype=float)\n",
    "cosmic_sum_per_cut = np.zeros(number_of_bins, dtype=float)\n",
    "\n",
    "#Iterating over the bins and count the elements in each bin\n",
    "for i in range(number_of_bins):\n",
    "    \n",
    "    inspected_cut = bdt_score_bin_edges[i]\n",
    "    for j in range(len(bdt_score_numuCC)):\n",
    "        \n",
    "        if bdt_score_numuCC[j]>inspected_cut:\n",
    "            \n",
    "            atm_sum_per_cut[i] += 1 * scale_to_live_neutrinos_arca21 * atm[j]\n",
    "            cosmic_sum_per_cut[i] += 1 * scale_to_live_neutrinos_arca21 * cosmic[j]"
   ]
  },
  {
   "cell_type": "code",
   "execution_count": 12,
   "id": "36916ce1",
   "metadata": {},
   "outputs": [
    {
     "data": {
      "image/png": "[encoded data removed]",
      "text/plain": [
       "<Figure size 640x480 with 1 Axes>"
      ]
     },
     "metadata": {},
     "output_type": "display_data"
    }
   ],
   "source": [
    "import matplotlib.pyplot as plt\n",
    "\n",
    "#Efficiency for cosmic and atmo neutrinos\n",
    "Efficiency_cosmic = 100 * cosmic_sum_per_cut / cosmic_neutrinos\n",
    "Efficiency_atm = 100 * atm_sum_per_cut / atm_neutrinos\n",
    "\n",
    "#...Drawing efficiency vs BDT Score cut for cosmic and atm neutrinos\n",
    "plt.plot(bdt_score_bin_edges, Efficiency_cosmic, marker='o', linestyle='-',label='Cosmic Neutrinos')\n",
    "plt.plot(bdt_score_bin_edges, Efficiency_atm, marker='o', linestyle='-', label='Atmospheric Neutrinos')\n",
    "\n",
    "# Adding labels, title and more...\n",
    "plt.xlabel('BDT Score Cut')\n",
    "plt.ylabel('Efficiency (%)')\n",
    "plt.title('Efficiency VS BDT Score Cut')\n",
    "plt.grid()\n",
    "plt.legend(loc=\"center left\")\n",
    "\n",
    "# ...the plot\n",
    "plt.show()"
   ]
  },
  {
   "cell_type": "markdown",
   "id": "35d7ff02",
   "metadata": {},
   "source": [
    "We continue by doing the same but for muons:"
   ]
  },
  {
   "cell_type": "code",
   "execution_count": 16,
   "id": "5f3758ff",
   "metadata": {},
   "outputs": [],
   "source": [
    "#Initializing arrays to store the counts of each bin\n",
    "muons_per_cut = np.zeros(number_of_bins, dtype=float)\n",
    "\n",
    "#Iterating over the bins and count the elements in each bin\n",
    "for i in range(number_of_bins):\n",
    "    \n",
    "    inspected_cut = bdt_score_bin_edges[i]\n",
    "    for j in range(len(bdt_score_muons)):\n",
    "        \n",
    "        if bdt_score_muons[j]>inspected_cut:\n",
    "            \n",
    "            muons_per_cut[i] += 1 * scale_to_live_muons_arca21 "
   ]
  },
  {
   "cell_type": "code",
   "execution_count": 18,
   "id": "b51ff4cc",
   "metadata": {},
   "outputs": [
    {
     "data": {
      "image/png": "[encoded data removed]",
      "text/plain": [
       "<Figure size 640x480 with 1 Axes>"
      ]
     },
     "metadata": {},
     "output_type": "display_data"
    }
   ],
   "source": [
    "#Efficiency for cosmic and atmo neutrinos\n",
    "Efficiency_muons = 100 * muons_per_cut / muons\n",
    "\n",
    "#...Drawing efficiency vs BDT Score cut for cosmic and atm neutrinos\n",
    "plt.plot(bdt_score_bin_edges, Efficiency_muons, marker='o', linestyle='-',label='Muons')\n",
    "\n",
    "# Adding labels, title and more...\n",
    "plt.xlabel('BDT Score Cut')\n",
    "plt.ylabel('Efficiency (%)')\n",
    "plt.title('Efficiency VS BDT Score Cut')\n",
    "plt.grid()\n",
    "plt.legend(loc=\"best\")\n",
    "\n",
    "# ...the plot\n",
    "plt.show()"
   ]
  },
  {
   "cell_type": "markdown",
   "id": "e8c211a1",
   "metadata": {},
   "source": [
    "Now let's see all of them in one plot:"
   ]
  },
  {
   "cell_type": "code",
   "execution_count": 32,
   "id": "1058838c",
   "metadata": {},
   "outputs": [
    {
     "data": {
      "image/png": "[encoded data removed]",
      "text/plain": [
       "<Figure size 640x480 with 1 Axes>"
      ]
     },
     "metadata": {},
     "output_type": "display_data"
    }
   ],
   "source": [
    "## import matplotlib.pyplot as plt\n",
    "\n",
    "#Efficiency for cosmic and atmo neutrinos\n",
    "Efficiency_cosmic = 100 * cosmic_sum_per_cut / cosmic_neutrinos\n",
    "Efficiency_atm = 100 * atm_sum_per_cut / atm_neutrinos\n",
    "\n",
    "#...Drawing efficiency vs BDT Score cut for cosmic and atm neutrinos\n",
    "plt.plot(bdt_score_bin_edges, Efficiency_muons, marker='o', linestyle='-',label='Muons')\n",
    "plt.plot(bdt_score_bin_edges, Efficiency_cosmic, marker='o', linestyle='-',label='Cosmic Neutrinos')\n",
    "plt.plot(bdt_score_bin_edges, Efficiency_atm, marker='o', linestyle='-', label='Atmospheric Neutrinos')\n",
    "\n",
    "# Adding labels, title and more...\n",
    "plt.xlabel('BDT Score Cut')\n",
    "plt.ylabel('Efficiency (%)')\n",
    "plt.title('Efficiency VS BDT Score Cut')\n",
    "plt.grid()\n",
    "plt.legend(loc=\"best\")\n",
    "plt.yticks(np.linspace(0 ,100, 11))\n",
    "plt.xticks(np.linspace(-1 , 1, 21),rotation=\"vertical\")\n",
    "\n",
    "# ...the plot\n",
    "plt.show()"
   ]
  },
  {
   "cell_type": "markdown",
   "id": "dee15aa8",
   "metadata": {},
   "source": [
    "By examining the above plot we assume that, by implying a strict BDT Cut at 0.4, 80% of initial Atmospheric Neutrinos, ~ 86% of initial Cosmic Neutrinos and <<< 1% of initial Muons samples will remain. We will no imply the BDT Cut and then examine our new Signal/Noise ratio."
   ]
  },
  {
   "cell_type": "markdown",
   "id": "8608adaa",
   "metadata": {},
   "source": [
    "# ----- BDT Cut -----"
   ]
  },
  {
   "cell_type": "code",
   "execution_count": 33,
   "id": "c840d63d",
   "metadata": {},
   "outputs": [],
   "source": [
    "inspected_bdt_cut = 0.4"
   ]
  },
  {
   "cell_type": "code",
   "execution_count": 34,
   "id": "dbba30e2",
   "metadata": {},
   "outputs": [
    {
     "name": "stdout",
     "output_type": "stream",
     "text": [
      "Value of inspected BDT Score cut is:  0.4\n"
     ]
    }
   ],
   "source": [
    "print(\"Value of inspected BDT Score cut is: \",inspected_bdt_cut )"
   ]
  },
  {
   "cell_type": "code",
   "execution_count": 35,
   "id": "ca7834f4",
   "metadata": {},
   "outputs": [
    {
     "name": "stdout",
     "output_type": "stream",
     "text": [
      "CPU times: user 6.06 s, sys: 156 ms, total: 6.21 s\n",
      "Wall time: 6.21 s\n"
     ]
    }
   ],
   "source": [
    "%%time\n",
    "\n",
    "# Initializing\n",
    "Cutted_bdt_score_numuCC = []\n",
    "Cutted_cosmic = []\n",
    "Cutted_atm = []\n",
    "\n",
    "Cutted_bdt_score_muons = []\n",
    "\n",
    "# CutCutCut\n",
    "for i in range(len(bdt_score_numuCC)):\n",
    "    \n",
    "    if (bdt_score_numuCC[i] > inspected_bdt_cut):\n",
    "        \n",
    "        Cutted_bdt_score_numuCC.append(bdt_score_numuCC[i])\n",
    "        \n",
    "        Cutted_cosmic.append(cosmic[i])\n",
    "        Cutted_atm.append(atm[i])\n",
    "        \n",
    "       \n",
    "for i in range(len(bdt_score_muons)-1):\n",
    "    if bdt_score_muons[i] > inspected_bdt_cut:\n",
    "        \n",
    "        Cutted_bdt_score_muons.append(bdt_score_muons[i])\n",
    "        \n",
    "# Normaly, we would have to insert all variables here but for the purpose of this analysis this is not necassery"
   ]
  },
  {
   "cell_type": "markdown",
   "id": "ffcdf3d3",
   "metadata": {},
   "source": [
    "Now lets see let's examine precisely how many particles we were left with after the BDT Cut and the Signal/Noise ratio."
   ]
  },
  {
   "cell_type": "code",
   "execution_count": 36,
   "id": "cbd5a263",
   "metadata": {},
   "outputs": [
    {
     "name": "stdout",
     "output_type": "stream",
     "text": [
      "Signal/Noise after BDT Cut is: 50.18774482183255.\n",
      "Remaining Muons after BDT Cut: 5.340866657926992.\n"
     ]
    }
   ],
   "source": [
    "muons_after_bdt_cut  = 0\n",
    "for i in range(len(Cutted_bdt_score_muons)):\n",
    "    \n",
    "    muons_after_bdt_cut  += 1 * scale_to_live_muons_arca21 \n",
    "    \n",
    "    \n",
    "atm_neutrinos_after_bdt_cut = 0\n",
    "cosmic_neutrinos_after_bdt_cut  = 0 \n",
    "for i in range(len(Cutted_bdt_score_numuCC)):\n",
    "    \n",
    "    atm_neutrinos_after_bdt_cut += 1 * scale_to_live_neutrinos_arca21 * Cutted_atm[i]\n",
    "    cosmic_neutrinos_after_bdt_cut += 1 * scale_to_live_neutrinos_arca21 * Cutted_cosmic[i]\n",
    "    \n",
    "signal_over_backround_after_bdt_cut = atm_neutrinos_after_bdt_cut / ( cosmic_neutrinos_after_bdt_cut + muons_after_bdt_cut )\n",
    "\n",
    "print(f\"Signal/Noise after BDT Cut is: {signal_over_backround_after_bdt_cut}.\\nRemaining Muons after BDT Cut: {muons_after_bdt_cut}.\")"
   ]
  },
  {
   "cell_type": "markdown",
   "id": "e8df6f59",
   "metadata": {},
   "source": [
    "As we can see, Muons background which originally included ~ 5400 particles, now contains only ~ 5 resulting in a very bigger Signal/Noise ratio of about 50."
   ]
  }
 ],
 "metadata": {
  "kernelspec": {
   "display_name": "Python 3 (ipykernel)",
   "language": "python",
   "name": "python3"
  },
  "language_info": {
   "codemirror_mode": {
    "name": "ipython",
    "version": 3
   },
   "file_extension": ".py",
   "mimetype": "text/x-python",
   "name": "python",
   "nbconvert_exporter": "python",
   "pygments_lexer": "ipython3",
   "version": "3.11.0rc1"
  }
 },
 "nbformat": 4,
 "nbformat_minor": 5
}
